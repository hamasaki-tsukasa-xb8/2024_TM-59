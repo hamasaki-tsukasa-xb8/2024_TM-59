{
 "cells": [
  {
   "cell_type": "code",
   "execution_count": 16,
   "metadata": {},
   "outputs": [
    {
     "name": "stdout",
     "output_type": "stream",
     "text": [
      "c:\\Users\\sakurai.masaru.NCS\\AppData\\Local\\Programs\\Python\\Python312\\python.exe\n",
      "[[  0   1   0   0   0   0   0   0   0   0   0   0]\n",
      " [  1   0   1   0   0   1   0   0   0   0   0   0]\n",
      " [  0   1   0   0   0   0   1   0   0   0   0   0]\n",
      " [  0   0   0   0   0   0   0   1   0   0   0   0]\n",
      " [  0   0   0   0   0   0   0   0   1   0   0   0]\n",
      " [  0   1   0   0   0   0   0   0   0   1   0   0]\n",
      " [  0   0   1   0   0   0   1   1   0   0   0   0]\n",
      " [  0   0   0 100   0   0   1   0   0   0   0   1]\n",
      " [  0   0   0   0   1   0   0   0   0   1   0   0]\n",
      " [  0   0   0   0   0   1   0   0   1   0   1   0]\n",
      " [  0   0   0   0   0   0   0   0   0   1   0   1]\n",
      " [  0   0   0   0   0   0   0   1   0   0   1   0]]\n",
      "[[0. 0. 0. 0. 0. 0. 0. 0. 0. 0. 0. 0.]\n",
      " [0. 0. 0. 0. 0. 0. 0. 0. 0. 0. 0. 0.]\n",
      " [0. 0. 0. 0. 0. 0. 0. 0. 0. 0. 0. 0.]\n",
      " [0. 0. 0. 0. 0. 0. 0. 0. 0. 0. 0. 0.]\n",
      " [0. 0. 0. 0. 0. 0. 0. 0. 0. 0. 0. 0.]\n",
      " [0. 0. 0. 0. 0. 0. 0. 0. 0. 0. 0. 0.]\n",
      " [0. 0. 0. 0. 0. 0. 0. 0. 0. 0. 0. 0.]\n",
      " [0. 0. 0. 0. 0. 0. 0. 0. 0. 0. 0. 0.]\n",
      " [0. 0. 0. 0. 0. 0. 0. 0. 0. 0. 0. 0.]\n",
      " [0. 0. 0. 0. 0. 0. 0. 0. 0. 0. 0. 0.]\n",
      " [0. 0. 0. 0. 0. 0. 0. 0. 0. 0. 0. 0.]\n",
      " [0. 0. 0. 0. 0. 0. 0. 0. 0. 0. 0. 0.]]\n"
     ]
    }
   ],
   "source": [
    "import sys\n",
    "##sys.path.append('c:\\\\users\\\\sakurai.masaru.ncs\\\\appdata\\\\local\\\\programs\\\\python\\\\python312\\\\lib\\\\site-packages')\n",
    "print(sys.executable)\n",
    "##print(sys.path)\n",
    "import numpy as np\n",
    "##import panda as pd\n",
    "\n",
    "##ハイパーパラメータの設定 今回はガンマとアルファ\n",
    "gamma = 0.75\n",
    "alpha = 0.9\n",
    "\n",
    "#工場の中の場所と状態を表している。Aの場所が０という状態\n",
    "location_to_state = {'A':0,\n",
    "                     'B':1,\n",
    "                     'C':2,\n",
    "                     'D':3,\n",
    "                     'E':4,\n",
    "                     'F':5,\n",
    "                     'G':6,\n",
    "                     'H':7,\n",
    "                     'I':8,\n",
    "                     'J':9,\n",
    "                     'K':10,\n",
    "                     'L':11,\n",
    "\n",
    "}\n",
    "\n",
    "#アクション＝行動を定義\n",
    "actions = [0,1,2,3,4,5,7,8,9,10,11]\n",
    "\n",
    "#報酬を定義　A-Bに移動したときに得られる報酬あれば１、A-Eに行けなければ、報酬は0\n",
    "              #A B C D E F G H I J K L  <-TOのイメージ\n",
    "R = np.array([\n",
    "              [0,1,0,0,0,0,0,0,0,0,0,0],#Aから移動できる場所への報酬　Bにしか移動できないので2個目だけ1\n",
    "              [1,0,1,0,0,1,0,0,0,0,0,0],\n",
    "              [0,1,0,0,0,0,1,0,0,0,0,0],\n",
    "              [0,0,0,0,0,0,0,1,0,0,0,0],\n",
    "              [0,0,0,0,0,0,0,0,1,0,0,0],\n",
    "              [0,1,0,0,0,0,0,0,0,1,0,0],\n",
    "              [0,0,1,0,0,0,1,1,0,0,0,0],\n",
    "              [0,0,0,100,0,0,1,0,0,0,0,1],\n",
    "              [0,0,0,0,1,0,0,0,0,1,0,0],\n",
    "              [0,0,0,0,0,1,0,0,1,0,1,0],\n",
    "              [0,0,0,0,0,0,0,0,0,1,0,1],\n",
    "              [0,0,0,0,0,0,0,1,0,0,1,0]])\n",
    "\n",
    "#Q値の設定　いったん初期状態\n",
    "Q = np.array(np.zeros([12,12])) \n",
    "print(R)\n",
    "print(Q)"
   ]
  },
  {
   "cell_type": "code",
   "execution_count": 17,
   "metadata": {},
   "outputs": [
    {
     "name": "stdout",
     "output_type": "stream",
     "text": [
      "{0: 'A', 1: 'B', 2: 'C', 3: 'D', 4: 'E', 5: 'F', 6: 'G', 7: 'H', 8: 'I', 9: 'J', 10: 'K', 11: 'L'}\n"
     ]
    }
   ],
   "source": [
    "\n",
    "for i in range(1000):\n",
    "    #初期値を設定。0-12までのランダム値\n",
    "    current_state = np.random.randint(0,12)\n",
    "    #次にとることのできる状態(場所)を取得　報酬の配列を使う\n",
    "    playable_actions = []\n",
    "    for j in range(12):\n",
    "        if R[current_state,j] > 0 :\n",
    "            playable_actions.append(j)\n",
    "    #次の状態\n",
    "    next_state = np.random.choice(playable_actions) #次のアクションをランダムにとる\n",
    "\n",
    "    #temp defference を求めてQ値を更新する。\n",
    "    TD = R[current_state,next_state] + gamma * Q[next_state,np.argmax(Q[next_state,])]-Q[current_state,next_state]\n",
    "    Q[current_state,next_state] = Q[current_state,next_state]+ alpha*TD\n",
    "\n",
    "#print(Q)\n",
    "\n",
    "#場所と状態を示す変数を作る\n",
    "state_to_location = {state : location for location,state in location_to_state.items()}\n",
    "\n",
    "print(state_to_location)\n",
    "    \n",
    "\n"
   ]
  },
  {
   "cell_type": "code",
   "execution_count": 18,
   "metadata": {},
   "outputs": [
    {
     "name": "stdout",
     "output_type": "stream",
     "text": [
      "B\n",
      "C\n",
      "G\n",
      "H\n",
      "D\n",
      "['A', 'B', 'C', 'G', 'H', 'D']\n"
     ]
    }
   ],
   "source": [
    "def route(starting_location, ending_location):\n",
    "    route = [starting_location]\n",
    "    next_location = starting_location\n",
    "    while(next_location != ending_location):#ゴールを決める。次の状態がゴールでない限り続ける\n",
    "        starting_state = location_to_state[starting_location] #ここでのstatingはpre　次の状態をとる前の状態と思う\n",
    "        next_state = np.argmax(Q[starting_state,])\n",
    "        next_location = state_to_location[next_state]\n",
    "        route.append(next_location)\n",
    "        starting_location = next_location\n",
    "        print(next_location)\n",
    "    return route\n",
    "\n",
    "print(route('A','D'))\n"
   ]
  },
  {
   "cell_type": "code",
   "execution_count": null,
   "metadata": {},
   "outputs": [],
   "source": []
  }
 ],
 "metadata": {
  "kernelspec": {
   "display_name": "prac1",
   "language": "python",
   "name": "python3"
  },
  "language_info": {
   "codemirror_mode": {
    "name": "ipython",
    "version": 3
   },
   "file_extension": ".py",
   "mimetype": "text/x-python",
   "name": "python",
   "nbconvert_exporter": "python",
   "pygments_lexer": "ipython3",
   "version": "3.12.3"
  }
 },
 "nbformat": 4,
 "nbformat_minor": 2
}
